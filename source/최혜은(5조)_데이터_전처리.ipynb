{
  "nbformat": 4,
  "nbformat_minor": 0,
  "metadata": {
    "colab": {
      "provenance": []
    },
    "kernelspec": {
      "name": "python3",
      "display_name": "Python 3"
    },
    "language_info": {
      "name": "python"
    }
  },
  "cells": [
    {
      "cell_type": "markdown",
      "source": [
        "# **데이터 전처리**"
      ],
      "metadata": {
        "id": "rYiUPVvmnLWR"
      }
    },
    {
      "cell_type": "markdown",
      "source": [
        "## **데이터 로드**\n"
      ],
      "metadata": {
        "id": "Uz6c2jyDMmK_"
      }
    },
    {
      "cell_type": "code",
      "source": [
        "import pandas as pd\n",
        "\n",
        "# 파일 경로\n",
        "file_paths = {\n",
        "    \"2018\": \"/content/WHR_2018.csv\",\n",
        "    \"2019\": \"/content/WHR_2019.csv\",\n",
        "    \"2020\": \"/content/WHR_2020.csv\",\n",
        "    \"2021\": \"/content/WHR_2021.csv\",\n",
        "    \"2022\": \"/content/WHR_2022.csv\",\n",
        "}\n",
        "\n",
        "# 데이터 로드\n",
        "data = {year: pd.read_csv(path) for year, path in file_paths.items()}"
      ],
      "metadata": {
        "id": "7gR9WF78u6-l"
      },
      "execution_count": null,
      "outputs": []
    },
    {
      "cell_type": "markdown",
      "source": [
        "## **결측치**\n",
        "\n",
        "#### **1. 결측치 개수 확인**\n",
        "- 데이터셋을 분석한 결과, 총 1개의 결측치가 존재\n",
        "- 결측치가 포함된 변수와 개수는 다음과 같다 : <br>\n",
        "perceptions_of_corruption, 1\n",
        "\n",
        "#### **2. 결측치 처리**\n",
        "- 단 1개의 결측치만 존재하여 전체 데이터 분석에 미치는 영향이 미미함.\n",
        "- 별다른 왜곡 없이 분석을 진행할 수 있다고 판단.\n",
        "- 따라서 추가적인 결측치 처리는 수행하지 않고 그대로 유지하기로 결정."
      ],
      "metadata": {
        "id": "MfJqkta8mUui"
      }
    },
    {
      "cell_type": "code",
      "source": [
        "# 각 연도별 결측치 개수 확인\n",
        "missing_values = {year: df.isnull().sum() for year, df in data.items()}\n",
        "\n",
        "# 결과 출력\n",
        "for year, missing in missing_values.items():\n",
        "    print(f\"{year}년 데이터 결측치 개수:\")\n",
        "    print(missing[missing > 0]) # 결측치가 있는 컬럼만 출력"
      ],
      "metadata": {
        "colab": {
          "base_uri": "https://localhost:8080/"
        },
        "id": "NhZGOP3Jl2eO",
        "outputId": "7636a4f4-33c8-4cdb-c118-9737ed9ffe1b"
      },
      "execution_count": null,
      "outputs": [
        {
          "output_type": "stream",
          "name": "stdout",
          "text": [
            "2018년 데이터 결측치 개수:\n",
            "perceptions_of_corruption    1\n",
            "dtype: int64\n",
            "2019년 데이터 결측치 개수:\n",
            "Series([], dtype: int64)\n",
            "2020년 데이터 결측치 개수:\n",
            "Series([], dtype: int64)\n",
            "2021년 데이터 결측치 개수:\n",
            "Series([], dtype: int64)\n",
            "2022년 데이터 결측치 개수:\n",
            "Series([], dtype: int64)\n"
          ]
        }
      ]
    },
    {
      "cell_type": "markdown",
      "source": [
        "## **2020년을 기준으로 ['country'] 컬럼 전처리를 진행**\n"
      ],
      "metadata": {
        "id": "jRwSqn9ImRU6"
      }
    },
    {
      "cell_type": "code",
      "source": [
        "# 국가명 컬럼 확인 (각 연도별)\n",
        "columns_info = {year: df.columns for year, df in data.items()}\n",
        "\n",
        "# 2022년 데이터의 컬럼명 변경\n",
        "data[\"2022\"].rename(columns={\"Country\": \"country\", \"Region\": \"region\"}, inplace=True)\n",
        "\n",
        "# 2020년 기준 국가 목록 가져오기\n",
        "country_2020 = set(data[\"2020\"][\"country\"])\n",
        "\n",
        "# 각 연도의 국가명 비교\n",
        "country_mismatches = {}\n",
        "for year, df in data.items():\n",
        "    if year == \"2020\":\n",
        "        continue  # 기준 데이터이므로 비교하지 않음\n",
        "    mismatched_countries = set(df[\"country\"]) - country_2020\n",
        "    country_mismatches[year] = mismatched_countries\n",
        "\n",
        "# 국가명이 일치하지 않는 경우 확인\n",
        "country_mismatches"
      ],
      "metadata": {
        "colab": {
          "base_uri": "https://localhost:8080/"
        },
        "id": "LWOZVJ5Qw2Xm",
        "outputId": "f7e21835-4be0-48c1-d180-19db29a32f7f"
      },
      "execution_count": null,
      "outputs": [
        {
          "output_type": "execute_result",
          "data": {
            "text/plain": [
              "{'2018': {'Angola', 'Belize', 'Bhutan', 'Qatar', 'Somalia', 'Sudan', 'Syria'},\n",
              " '2019': {'Bhutan', 'Qatar', 'Somalia', 'Syria'},\n",
              " '2021': set(),\n",
              " '2022': {'Congo', 'Czechia', 'Eswatini'}}"
            ]
          },
          "metadata": {},
          "execution_count": 3
        }
      ]
    },
    {
      "cell_type": "markdown",
      "source": [
        "## **국가 데이터 삭제 및 국가명 일치**\n",
        "\n",
        "#### **1. 1개년에만 존재하는 국가의 경우 비교가 불가능하다고 판단하여 삭제**\n",
        "- {\"Angola\", \"Belize\", \"Sudan\"} -> 2018년 데이터만 존재\n",
        "- {\"Czechia\"} -> 2022년 데이터만 존재\n",
        "\n",
        "#### **2. 2020년 데이터를 기준으로 국가명을 일치시킨다.**\n",
        "- \"Congo\"의 경우 : <br>\n",
        "2018~2021년 데이터에서는 두 개의 국가(Congo (Brazzaville), Congo (Kinshasa))로 구분되어 있으나, 2022년 데이터에서는 하나로 통합되어 나타남. <br>\n",
        "따라서, 공식 사이트의 리포트를 확인한 후 Congo (Brazzaville)로 변경하는 전처리를 진행."
      ],
      "metadata": {
        "id": "Ks0qYzvrMyhm"
      }
    },
    {
      "cell_type": "code",
      "source": [
        "# 삭제할 국가 (1개년 데이터에만 존재하는 국가)\n",
        "countries_to_remove = {\"Angola\", \"Belize\", \"Czechia\", \"Sudan\"}\n",
        "\n",
        "# 변경할 국가명 매핑 (2020년 기준으로 일치)\n",
        "country_mapping = {\n",
        "    \"Congo\": \"Congo (Brazzaville)\",\n",
        "    \"Eswatini\": \"Swaziland\"\n",
        "}\n",
        "\n",
        "# 매핑 적용 및 삭제 처리\n",
        "for year, df in data.items():\n",
        "    # 국가명 변경\n",
        "    df[\"country\"] = df[\"country\"].replace(country_mapping)\n",
        "    # 삭제할 국가 제거\n",
        "    df = df[~df[\"country\"].isin(countries_to_remove)]\n",
        "    # 수정된 데이터 반영\n",
        "    data[year] = df\n",
        "\n",
        "# 수정된 데이터를 다시 저장\n",
        "updated_file_paths = {}\n",
        "for year, df in data.items():\n",
        "    save_path = f\"/content/Updated_WHR_{year}.csv\"\n",
        "    df.to_csv(save_path, index=False)\n",
        "    updated_file_paths[year] = save_path\n",
        "\n",
        "updated_file_paths"
      ],
      "metadata": {
        "colab": {
          "base_uri": "https://localhost:8080/"
        },
        "id": "kSHTCn29xTao",
        "outputId": "5850c1a5-7501-40d5-cda6-cea279550a07"
      },
      "execution_count": null,
      "outputs": [
        {
          "output_type": "execute_result",
          "data": {
            "text/plain": [
              "{'2018': '/content/Updated_WHR_2018.csv',\n",
              " '2019': '/content/Updated_WHR_2019.csv',\n",
              " '2020': '/content/Updated_WHR_2020.csv',\n",
              " '2021': '/content/Updated_WHR_2021.csv',\n",
              " '2022': '/content/Updated_WHR_2022.csv'}"
            ]
          },
          "metadata": {},
          "execution_count": 4
        }
      ]
    },
    {
      "cell_type": "code",
      "source": [
        "# 연도별 데이터를 하나의 데이터셋으로 통합\n",
        "merged_data = pd.concat(data.values(), ignore_index=True)\n",
        "\n",
        "# 통합된 데이터 저장 경로\n",
        "merged_file_path = \"/content/WHR_2018_2022.csv\"\n",
        "merged_data.to_csv(merged_file_path, index=False)\n",
        "\n",
        "# 저장된 파일 경로 반환\n",
        "merged_file_path"
      ],
      "metadata": {
        "colab": {
          "base_uri": "https://localhost:8080/",
          "height": 35
        },
        "id": "kYK2VG3BzNJZ",
        "outputId": "06fde8fa-0ba1-4a14-c4ff-792757a422b8"
      },
      "execution_count": null,
      "outputs": [
        {
          "output_type": "execute_result",
          "data": {
            "text/plain": [
              "'/content/WHR_2018_2022.csv'"
            ],
            "application/vnd.google.colaboratory.intrinsic+json": {
              "type": "string"
            }
          },
          "metadata": {},
          "execution_count": 5
        }
      ]
    }
  ]
}